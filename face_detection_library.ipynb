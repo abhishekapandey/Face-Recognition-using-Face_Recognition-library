{
  "nbformat": 4,
  "nbformat_minor": 0,
  "metadata": {
    "colab": {
      "name": "face_detection_library.ipynb",
      "provenance": [],
      "collapsed_sections": [],
      "authorship_tag": "ABX9TyMAXKxoKn4eLtnMPU0b83c3",
      "include_colab_link": true
    },
    "kernelspec": {
      "name": "python3",
      "display_name": "Python 3"
    },
    "accelerator": "GPU"
  },
  "cells": [
    {
      "cell_type": "markdown",
      "metadata": {
        "id": "view-in-github",
        "colab_type": "text"
      },
      "source": [
        "<a href=\"https://colab.research.google.com/github/abhishekapandey/Face-Recognition-using-Face_Recognition-library/blob/main/face_detection_library.ipynb\" target=\"_parent\"><img src=\"https://colab.research.google.com/assets/colab-badge.svg\" alt=\"Open In Colab\"/></a>"
      ]
    },
    {
      "cell_type": "code",
      "metadata": {
        "colab": {
          "base_uri": "https://localhost:8080/"
        },
        "id": "YlaEuHKxmDvP",
        "outputId": "dd884b97-a4bb-49f5-f66b-5141d2632738"
      },
      "source": [
        "pip install face_recognition"
      ],
      "execution_count": 28,
      "outputs": [
        {
          "output_type": "stream",
          "text": [
            "Requirement already satisfied: face_recognition in /usr/local/lib/python3.6/dist-packages (1.3.0)\n",
            "Requirement already satisfied: Click>=6.0 in /usr/local/lib/python3.6/dist-packages (from face_recognition) (7.1.2)\n",
            "Requirement already satisfied: Pillow in /usr/local/lib/python3.6/dist-packages (from face_recognition) (7.0.0)\n",
            "Requirement already satisfied: numpy in /usr/local/lib/python3.6/dist-packages (from face_recognition) (1.18.5)\n",
            "Requirement already satisfied: face-recognition-models>=0.3.0 in /usr/local/lib/python3.6/dist-packages (from face_recognition) (0.3.0)\n",
            "Requirement already satisfied: dlib>=19.7 in /usr/local/lib/python3.6/dist-packages (from face_recognition) (19.18.0)\n"
          ],
          "name": "stdout"
        }
      ]
    },
    {
      "cell_type": "code",
      "metadata": {
        "id": "4x4FvB_9mR7Q",
        "colab": {
          "base_uri": "https://localhost:8080/"
        },
        "outputId": "88883b02-2f29-4c83-d8db-affaed39b897"
      },
      "source": [
        "import face_recognition\n",
        "import matplotlib.pyplot as plt\n",
        "image = face_recognition.load_image_file(\"Abhi.jpg\")\n",
        "face_locations = face_recognition.face_locations(image)\n",
        "face_locations\n"
      ],
      "execution_count": 29,
      "outputs": [
        {
          "output_type": "execute_result",
          "data": {
            "text/plain": [
              "[(139, 283, 325, 97)]"
            ]
          },
          "metadata": {
            "tags": []
          },
          "execution_count": 29
        }
      ]
    },
    {
      "cell_type": "code",
      "metadata": {
        "id": "dXjFE5b6o13_",
        "colab": {
          "base_uri": "https://localhost:8080/"
        },
        "outputId": "7ae8363a-88b2-40a6-c88b-4c6ac2ac8c1f"
      },
      "source": [
        "import face_recognition\n",
        "image = face_recognition.load_image_file(\"ab.jpg\")\n",
        "face_landmarks_list = face_recognition.face_landmarks(image)\n",
        "face_landmarks_list"
      ],
      "execution_count": 30,
      "outputs": [
        {
          "output_type": "execute_result",
          "data": {
            "text/plain": [
              "[{'bottom_lip': [(307, 198),\n",
              "   (293, 209),\n",
              "   (279, 213),\n",
              "   (271, 212),\n",
              "   (263, 208),\n",
              "   (255, 199),\n",
              "   (249, 184),\n",
              "   (252, 186),\n",
              "   (265, 201),\n",
              "   (272, 204),\n",
              "   (280, 205),\n",
              "   (304, 197)],\n",
              "  'chin': [(235, 136),\n",
              "   (231, 149),\n",
              "   (229, 163),\n",
              "   (231, 177),\n",
              "   (235, 191),\n",
              "   (241, 204),\n",
              "   (247, 216),\n",
              "   (254, 230),\n",
              "   (265, 238),\n",
              "   (278, 239),\n",
              "   (292, 234),\n",
              "   (307, 227),\n",
              "   (322, 217),\n",
              "   (333, 204),\n",
              "   (341, 189),\n",
              "   (346, 174),\n",
              "   (350, 158)],\n",
              "  'left_eye': [(248, 136),\n",
              "   (255, 133),\n",
              "   (263, 135),\n",
              "   (269, 143),\n",
              "   (261, 141),\n",
              "   (253, 139)],\n",
              "  'left_eyebrow': [(239, 123), (248, 119), (257, 122), (266, 127), (274, 134)],\n",
              "  'nose_bridge': [(282, 145), (279, 156), (275, 168), (272, 179)],\n",
              "  'nose_tip': [(262, 179), (266, 183), (272, 187), (280, 185), (288, 184)],\n",
              "  'right_eye': [(300, 150),\n",
              "   (309, 145),\n",
              "   (318, 146),\n",
              "   (324, 151),\n",
              "   (317, 153),\n",
              "   (308, 151)],\n",
              "  'right_eyebrow': [(295, 139),\n",
              "   (307, 135),\n",
              "   (319, 135),\n",
              "   (330, 138),\n",
              "   (339, 145)],\n",
              "  'top_lip': [(249, 184),\n",
              "   (258, 185),\n",
              "   (267, 188),\n",
              "   (273, 191),\n",
              "   (282, 191),\n",
              "   (294, 193),\n",
              "   (307, 198),\n",
              "   (304, 197),\n",
              "   (281, 195),\n",
              "   (273, 194),\n",
              "   (266, 191),\n",
              "   (252, 186)]},\n",
              " {'bottom_lip': [(544, 218),\n",
              "   (531, 229),\n",
              "   (518, 234),\n",
              "   (510, 234),\n",
              "   (502, 232),\n",
              "   (495, 225),\n",
              "   (487, 211),\n",
              "   (490, 214),\n",
              "   (503, 225),\n",
              "   (510, 227),\n",
              "   (518, 227),\n",
              "   (541, 218)],\n",
              "  'chin': [(468, 165),\n",
              "   (467, 179),\n",
              "   (468, 193),\n",
              "   (471, 206),\n",
              "   (476, 218),\n",
              "   (484, 229),\n",
              "   (491, 240),\n",
              "   (498, 250),\n",
              "   (510, 255),\n",
              "   (524, 255),\n",
              "   (537, 249),\n",
              "   (551, 242),\n",
              "   (564, 234),\n",
              "   (574, 222),\n",
              "   (581, 209),\n",
              "   (586, 194),\n",
              "   (589, 176)],\n",
              "  'left_eye': [(480, 166),\n",
              "   (487, 164),\n",
              "   (494, 166),\n",
              "   (501, 172),\n",
              "   (493, 171),\n",
              "   (485, 169)],\n",
              "  'left_eyebrow': [(468, 154), (477, 151), (487, 153), (496, 159), (505, 165)],\n",
              "  'nose_bridge': [(513, 174), (511, 187), (509, 199), (507, 211)],\n",
              "  'nose_tip': [(497, 208), (502, 212), (509, 216), (517, 214), (525, 211)],\n",
              "  'right_eye': [(534, 177),\n",
              "   (541, 173),\n",
              "   (549, 173),\n",
              "   (558, 177),\n",
              "   (550, 179),\n",
              "   (541, 178)],\n",
              "  'right_eyebrow': [(526, 166),\n",
              "   (537, 163),\n",
              "   (549, 161),\n",
              "   (561, 162),\n",
              "   (572, 167)],\n",
              "  'top_lip': [(487, 211),\n",
              "   (496, 215),\n",
              "   (504, 217),\n",
              "   (511, 219),\n",
              "   (519, 218),\n",
              "   (531, 218),\n",
              "   (544, 218),\n",
              "   (541, 218),\n",
              "   (518, 221),\n",
              "   (510, 221),\n",
              "   (503, 219),\n",
              "   (490, 214)]}]"
            ]
          },
          "metadata": {
            "tags": []
          },
          "execution_count": 30
        }
      ]
    },
    {
      "cell_type": "code",
      "metadata": {
        "colab": {
          "base_uri": "https://localhost:8080/"
        },
        "id": "vzz-9ZMMrucA",
        "outputId": "c44fa1e2-38c5-4c88-e6e2-a0b34471e2aa"
      },
      "source": [
        "import face_recognition\n",
        "known_image = face_recognition.load_image_file(\"Abhishek.jpg\")\n",
        "unknown_image = face_recognition.load_image_file(\"Abhi.jpg\")\n",
        "\n",
        "my_encoding = face_recognition.face_encodings(known_image)[0]\n",
        "unknown_encoding = face_recognition.face_encodings(unknown_image)[0]\n",
        "\n",
        "\n",
        "\n",
        "results = face_recognition.compare_faces([my_encoding], unknown_encoding)\n",
        "results"
      ],
      "execution_count": 31,
      "outputs": [
        {
          "output_type": "execute_result",
          "data": {
            "text/plain": [
              "[True]"
            ]
          },
          "metadata": {
            "tags": []
          },
          "execution_count": 31
        }
      ]
    },
    {
      "cell_type": "code",
      "metadata": {
        "id": "IckZOlTUuUJH"
      },
      "source": [
        ""
      ],
      "execution_count": 31,
      "outputs": []
    }
  ]
}